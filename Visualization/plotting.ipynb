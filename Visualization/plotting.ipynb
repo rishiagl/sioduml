import pandas as pd
import numpy as np
import matplotlib.pyplot as plt
df = pd.read_csv('D:/coding/data3.csv')
df['TIME'] = pd.to_datetime(df['TIME'])
df['TIME_SECONDS'] = (df['TIME'] - df['TIME'].iloc[0]).dt.total_seconds()
#df['MAGNETOMETER_MAGNITUDE'] = np.sqrt(df['MAGNETIC_FIELD_X']**2 + df['MAGNETIC_FIELD_Y']**2 + df['MAGNETIC_FIELD_Z']**2)
df['LIGHT_INTENSITY'] = df['LIGHT']
plt.figure(figsize=(10, 6))
# Style
plt.style.use('default')
# Get unique contexts
contexts = df['CONTEXT'].unique()
# Plot each context separately with different background colors
for context in contexts:
    context_data = df[df['CONTEXT'] == context]
    plt.plot(context_data['TIME_SECONDS'], context_data['LIGHT_INTENSITY'], label=f'Light ({context})')
    if context == 'OUTDOOR':
        plt.axvspan(context_data['TIME_SECONDS'].iloc[0], context_data['TIME_SECONDS'].iloc[-1], facecolor='lightgreen', alpha=0.5)
    if context == 'INDOOR':
        plt.axvspan(context_data['TIME_SECONDS'].iloc[0], context_data['TIME_SECONDS'].iloc[-1], facecolor='lightblue', alpha=0.5)

plt.xlabel('Time (seconds)')
plt.ylabel('Light Intensity')
plt.title('Light Intensity over Time')
plt.legend()
plt.grid(True)
plt.tight_layout()
plt.show()
