{
  "nbformat": 4,
  "nbformat_minor": 0,
  "metadata": {
    "colab": {
      "provenance": []
    },
    "kernelspec": {
      "name": "python3",
      "display_name": "Python 3"
    },
    "language_info": {
      "name": "python"
    }
  },
  "cells": [
    {
      "cell_type": "code",
      "execution_count": null,
      "metadata": {
        "colab": {
          "base_uri": "https://localhost:8080/"
        },
        "id": "0zwBh7LwW6GS",
        "outputId": "63a91c78-48b2-4490-92c5-5346d9124765"
      },
      "outputs": [
        {
          "output_type": "stream",
          "name": "stdout",
          "text": [
            "['INDOOR' 'OUTDOOR' 'INDOOR' ... 'OUTDOOR' 'OUTDOOR' 'OUTDOOR']\n",
            "Accuracy: 1.0\n",
            "Confusion Matrix:\n",
            "[[2803    0]\n",
            " [   0 3451]]\n"
          ]
        }
      ],
      "source": [
        "import pandas as pd\n",
        "from sklearn.model_selection import train_test_split\n",
        "from sklearn.ensemble import RandomForestClassifier\n",
        "from sklearn.metrics import accuracy_score, confusion_matrix\n",
        "import pickle\n",
        "\n",
        "# Load the dataset\n",
        "dataset_path = \"/content/Data_Set_2.csv\"  # Adjust this path to your dataset file\n",
        "data = pd.read_csv(dataset_path, header=None)\n",
        "\n",
        "# Split data into features (X) and target variable (y)\n",
        "X = data.iloc[1:, 1:12]  # First three columns are X, Y, and Z axis readings\n",
        "y = data.iloc[1:, 13]    # Fourth column is the environment label (indoor/outdoor)\n",
        "\n",
        "# Split data into training and testing sets\n",
        "X_train, X_test, y_train, y_test = train_test_split(X, y, test_size=0.2, random_state=42)\n",
        "\n",
        "# Initialize and train a Random Forest classifier\n",
        "clf = RandomForestClassifier(n_estimators=100, random_state=42)\n",
        "clf.fit(X_train, y_train)\n",
        "\n",
        "# Make predictions on the testing set\n",
        "y_pred = clf.predict(X_test)\n",
        "\n",
        "# Evaluate the model\n",
        "accuracy = accuracy_score(y_test, y_pred)\n",
        "print(y_pred)\n",
        "print(\"Accuracy:\", accuracy)\n",
        "\n",
        "conf_matrix = confusion_matrix(y_test, y_pred)\n",
        "print(\"Confusion Matrix:\")\n",
        "print(conf_matrix)\n",
        "\n",
        "with open('random_forest_model.pkl', 'wb') as f:\n",
        "    pickle.dump(clf, f)\n",
        "\n",
        "# Example usage: Predicting labels for new data\n",
        "# new_data = [[x1, y1, z1], [x2, y2, z2], ...]  # Replace x1, y1, z1, etc. with actual sensor readings\n",
        "# predicted_labels = clf.predict(new_data)\n"
      ]
    }
  ]
}