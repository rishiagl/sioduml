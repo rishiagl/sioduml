{
  "nbformat": 4,
  "nbformat_minor": 0,
  "metadata": {
    "colab": {
      "provenance": []
    },
    "kernelspec": {
      "name": "python3",
      "display_name": "Python 3"
    },
    "language_info": {
      "name": "python"
    }
  },
  "cells": [
    {
      "cell_type": "code",
      "execution_count": null,
      "metadata": {
        "colab": {
          "base_uri": "https://localhost:8080/"
        },
        "id": "lDmHJyzY381D",
        "outputId": "c1df8840-b5cb-4852-92c3-5a873ce9da3a"
      },
      "outputs": [
        {
          "output_type": "stream",
          "name": "stdout",
          "text": [
            "['INDOOR' 'OUTDOOR' 'INDOOR' ... 'OUTDOOR' 'OUTDOOR' 'OUTDOOR']\n",
            "Accuracy: 0.9491525423728814\n"
          ]
        }
      ],
      "source": [
        "import pandas as pd\n",
        "from sklearn.model_selection import train_test_split\n",
        "from sklearn.naive_bayes import GaussianNB  # Import Gaussian Naive Bayes\n",
        "from sklearn.metrics import accuracy_score\n",
        "import pickle\n",
        "\n",
        "# Load the dataset\n",
        "dataset_path = \"/content/Data_Set_2.csv\"  # Adjust this path to your dataset file\n",
        "data = pd.read_csv(dataset_path, header=None)\n",
        "\n",
        "# Split data into features (X) and target variable (y)\n",
        "X = data.iloc[1:, 1:12]  # First three columns are X, Y, and Z axis readings\n",
        "y = data.iloc[1:, 13]    # Fourth column is the environment label (indoor/outdoor)\n",
        "\n",
        "# Split data into training and testing sets\n",
        "X_train, X_test, y_train, y_test = train_test_split(X, y, test_size=0.2, random_state=42)\n",
        "\n",
        "# Initialize and train a Naive Bayes classifier\n",
        "clf = GaussianNB()  # Use Gaussian Naive Bayes\n",
        "clf.fit(X_train, y_train)\n",
        "\n",
        "# Make predictions on the testing set\n",
        "y_pred = clf.predict(X_test)\n",
        "\n",
        "# Evaluate the model\n",
        "accuracy = accuracy_score(y_test, y_pred)\n",
        "print(y_pred)\n",
        "print(\"Accuracy:\", accuracy)\n",
        "\n",
        "# Save the model\n",
        "with open('naive_bayes_model.pkl', 'wb') as f:\n",
        "    pickle.dump(clf, f)\n",
        "\n",
        "# Example usage: Predicting labels for new data\n",
        "# new_data = [[x1, y1, z1], [x2, y2, z2], ...]  # Replace x1, y1, z1, etc. with actual sensor readings\n",
        "# predicted_labels = clf.predict(new_data)\n"
      ]
    }
  ]
}